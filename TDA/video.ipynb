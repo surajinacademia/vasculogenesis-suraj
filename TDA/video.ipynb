{
 "cells": [
  {
   "cell_type": "code",
   "execution_count": 2,
   "id": "dc68ba58-9228-4738-a1e4-6b9a8439e8d9",
   "metadata": {},
   "outputs": [
    {
     "name": "stdout",
     "output_type": "stream",
     "text": [
      "[]\n"
     ]
    },
    {
     "data": {
      "text/plain": [
       "<Figure size 1440x1440 with 0 Axes>"
      ]
     },
     "metadata": {},
     "output_type": "display_data"
    }
   ],
   "source": [
    "\n",
    "import numpy as np\n",
    "import matplotlib.pyplot as plt\n",
    "import matplotlib.animation as ani\n",
    "import matplotlib.cm as cm\n",
    "import math\n",
    "import os\n",
    "\n",
    "\n",
    "files=[]\n",
    "for (dirpath, dirnames, filenames) in os.walk(\"frames/\"):\n",
    "\tfiles.extend([\"frames/\"+filenamest for filenamest in filenames if \"DS_Store\" not in filenamest])\n",
    "\tbreak\n",
    "files = sorted(files)\n",
    "print(files)\n",
    "fig = plt.figure(figsize=(20,20))\n",
    "ax = plt.gca()\n",
    "plt.clf()\n",
    "\n",
    "def readData(i):\n",
    "\t#print(i)\n",
    "\tplt.clf() ## CLEARS THE PROJECTIONS\n",
    "\tdata=[]\n",
    "\tdata=np.loadtxt(files[i])\n",
    "\n",
    "\tdata = list(zip(*data))\n",
    "\t#print (data)\n",
    "\tx=data[1]\n",
    "\ty=data[2]\n",
    "\tcolors=data[0]\n",
    "\tsize=[100*i*i for i in data[3]]\n",
    "\tplt.scatter(x, y, c='black', s=size, vmin=-0.25, vmax=2.5, edgecolors=\"none\", cmap = cm.get_cmap(\"Spectral\"))\n",
    "\t## DRAW PBC BOX -> RED\n",
    "    plt.plot([-24,24],[-24,-24],\"r-\", linewidth = 2.5) ## xmin to xmax at ymin\n",
    "    plt.plot([-24,24],[24,24],\"r-\", linewidth = 2.5) ## xmin to xmax at ymax\n",
    "    plt.plot([-24,-24],[-24,24],\"r-\", linewidth = 2.5) ## ymin to ymax at xmin\n",
    "    plt.plot([24,24],[-24,24],\"r-\", linewidth = 2.5) ## ymin to ymax at xmax\n",
    "    plt.xlim([-80,80])\n",
    "    plt.ylim([-80,80])\n",
    "    ax.spines[\"left\"].set_position((\"axes\", 1))\n",
    "    ax.spines[\"bottom\"].set_position((\"axes\",1))\n",
    "    ax.spines[\"right\"].set_color(\"none\")\n",
    "    ax.spines[\"top\"].set_color(\"none\")\n",
    "    plt.axis(\"on\")\n",
    "    plt.subplots_adjust(left=-0.205,bottom=-0.205,right=1.05,top=1.05)\n",
    "\n",
    "\n",
    "anim = ani.FuncAnimation(fig,readData,frames=len(files), blit=False)\n",
    "anim.save(\"animation.gif\", fps=10)#, extra_args=[\"-vcodec\", \"libx264\"])\n",
    "\n",
    "\n",
    "\n",
    "\n"
   ]
  },
  {
   "cell_type": "code",
   "execution_count": 6,
   "id": "357bdcee-f705-45ea-8255-6cbad07ea3ca",
   "metadata": {},
   "outputs": [],
   "source": [
    "import numpy as np\n",
    "import networkx as nx\n",
    "import pandas as pd\n",
    "import matplotlib.pyplot as plt\n",
    "import seaborn as sns\n",
    "from scipy.spatial import Delaunay\n",
    "from collections import defaultdict\n",
    "from itertools import permutations\n",
    "from scipy.spatial import distance\n",
    "import matplotlib.animation as ani\n",
    "import matplotlib.cm as cm\n",
    "import math\n",
    "import os\n"
   ]
  },
  {
   "cell_type": "code",
   "execution_count": null,
   "id": "b65f3de0-a138-44bf-ba12-81dc6ac57ab0",
   "metadata": {},
   "outputs": [],
   "source": [
    "x=data[1]\n",
    "y=data[2]\n",
    "colors=data[0]\n",
    "size=[100*i*i for i in data[3]]\n",
    "plt.scatter(x, y, c='black', s=size, vmin=-0.25, vmax=2.5, edgecolors=\"none\", cmap = cm.get_cmap(\"Spectral\"))\n",
    "## DRAW PBC BOX -> RED\n",
    "plt.plot([-40,40],[-40,-40],\"r-\", linewidth = 2.5) ## xmin to xmax at ymin\n",
    "plt.plot([-40,40],[40,40],\"r-\", linewidth = 2.5) ## xmin to xmax at ymax\n",
    "plt.plot([-40,-40],[-40,40],\"r-\", linewidth = 2.5) ## ymin to ymax at xmin\n",
    "plt.plot([40,40],[-40,40],\"r-\", linewidth = 2.5) ## ymin to ymax at xmax\n",
    "plt.xlim([-80,80])\n",
    "plt.ylim([-80,80])\n",
    "ax.spines[\"left\"].set_position((\"axes\", 1))\n",
    "ax.spines[\"bottom\"].set_position((\"axes\",1))\n",
    "ax.spines[\"right\"].set_color(\"none\")\n",
    "ax.spines[\"top\"].set_color(\"none\")\n",
    "plt.axis(\"on\")\n",
    "\n"
   ]
  },
  {
   "cell_type": "code",
   "execution_count": null,
   "id": "4afbaf2e-9bfc-43dc-8df3-7c34791801d5",
   "metadata": {},
   "outputs": [],
   "source": [
    "df = pd.read_csv(file_name, sep=\"\\s+\",header = None,usecols=[1,2])\n",
    "points = df[[1,2]].to_numpy()"
   ]
  },
  {
   "cell_type": "code",
   "execution_count": 5,
   "id": "472a5b84-1379-459c-9979-f6646ffcc191",
   "metadata": {
    "colab": {
     "base_uri": "https://localhost:8080/"
    },
    "id": "-4HMqRZuj2lU",
    "outputId": "f4173a69-dc2c-4d69-c438-fc58c9792f78"
   },
   "outputs": [
    {
     "name": "stdout",
     "output_type": "stream",
     "text": [
      "G num nodes: 144\n"
     ]
    }
   ],
   "source": [
    "# Now I will make the graph\n",
    "# First I add all the points to the graph\n",
    "G = nx.Graph()\n",
    "for i in range(len(points)):\n",
    "  G.add_node(i)\n",
    "print('G num nodes: ' + str(G.number_of_nodes()))"
   ]
  },
  {
   "cell_type": "code",
   "execution_count": 7,
   "id": "cf37d041-44fb-4b6e-b39c-771c5c960fff",
   "metadata": {
    "colab": {
     "base_uri": "https://localhost:8080/"
    },
    "id": "d4fkf90xXtYJ",
    "outputId": "5627a50a-68db-41a7-cd0a-cb00cb8409ad"
   },
   "outputs": [
    {
     "name": "stdout",
     "output_type": "stream",
     "text": [
      "G num edges: 288\n"
     ]
    }
   ],
   "source": [
    "# Now I will only keep edges within a certain distance\n",
    "G.remove_edges_from(G.edges())\n",
    "for k in neighbors:\n",
    "    node1 = k\n",
    "    for j in neighbors[k]:\n",
    "      node2 = j\n",
    "      if distance.euclidean(points[node1],points[node2]) < 4:\n",
    "        G.add_edge(node1,node2)\n",
    "print('G num edges: ' + str(G.number_of_edges()))"
   ]
  },
  {
   "cell_type": "code",
   "execution_count": 8,
   "id": "f0feb7bf-0098-45f7-97b9-79b2e67405e2",
   "metadata": {
    "colab": {
     "base_uri": "https://localhost:8080/",
     "height": 264
    },
    "id": "0bPY6uDXZrBE",
    "outputId": "80a1e4a0-20a8-43d5-cace-5e358a0715bb"
   },
   "outputs": [
    {
     "data": {
      "text/plain": [
       "Text(0.5, 1.0, 'Graph')"
      ]
     },
     "execution_count": 8,
     "metadata": {},
     "output_type": "execute_result"
    },
    {
     "data": {
      "image/png": "[encoded data removed]",
      "text/plain": [
       "<Figure size 432x288 with 1 Axes>"
      ]
     },
     "metadata": {},
     "output_type": "display_data"
    }
   ],
   "source": [
    "# plot the new result\n",
    "fig, ax = plt.subplots()\n",
    "nx.draw(G, pos=pos, node_color='k', node_size = 15, ax=ax)\n",
    "plt.title('Graph')"
   ]
  },
  {
   "cell_type": "code",
   "execution_count": 26,
   "id": "623daf69-bb06-4992-b7f7-3bf63b49251a",
   "metadata": {},
   "outputs": [
    {
     "data": {
      "text/plain": [
       "Text(0.5, 1.0, 'Graph')"
      ]
     },
     "execution_count": 53,
     "metadata": {},
     "output_type": "execute_result"
    },
    {
     "data": {
      "image/png": "[encoded data removed]",
      "text/plain": [
       "<Figure size 360x360 with 1 Axes>"
      ]
     },
     "metadata": {},
     "output_type": "display_data"
    }
   ],
   "source": [
    "file_name = \"/Users/surajsahu/Documents/Vasculogensis/Simulation/TDA/time/codes1/velocity_0.01noise_6.0gap_1.0neigh_1.0angle_2/7/video/frames/fr009999\" \n",
    "\n",
    "df = pd.read_csv(file_name, sep=\"\\s+\",header = None,usecols=[1,2])\n",
    "points = df[[1,2]].to_numpy()\n",
    "tri = Delaunay(points)\n",
    "_neighbors = defaultdict(set)\n",
    "for simplex in tri.vertices:\n",
    "    for i, j in permutations(simplex, 2):\n",
    "        _neighbors[i].add(j)\n",
    "#list those neighbors via their index\n",
    "points = [tuple(p) for p in tri.points]\n",
    "neighbors = {}\n",
    "for k, v in _neighbors.items():\n",
    "    neighbors[k] = [y for y in v]\n",
    "G = nx.Graph()\n",
    "for p in range(len(points)):\n",
    "    G.add_node(p)\n",
    "pos = {}\n",
    "for e in neighbors:\n",
    "    d = points[e]\n",
    "    pos[e] = [s for s in d]    \n",
    "G.remove_edges_from(G.edges())\n",
    "for h in neighbors:\n",
    "    node1 = h\n",
    "    for g in neighbors[h]:\n",
    "        node2 = g\n",
    "        if distance.euclidean(points[node1],points[node2]) < 4:\n",
    "            G.add_edge(node1,node2)\n",
    "            \n",
    "fig, ax = plt.subplots(figsize=(5,5))\n",
    "plt.plot([-24,24],[-24,-24],\"r-\", linewidth = 2.5) ## xmin to xmax at ymin\n",
    "plt.plot([-24,24],[24,24],\"r-\", linewidth = 2.5) ## xmin to xmax at ymax\n",
    "plt.plot([-24,-24],[-24,24],\"r-\", linewidth = 2.5) ## ymin to ymax at xmin\n",
    "plt.plot([24,24],[-24,24],\"r-\", linewidth = 2.5) ## ymin to ymax at xmax\n",
    "nx.draw(G, pos=pos, node_color='k', node_size = 15, ax=ax)\n",
    "plt.title('Graph')"
   ]
  },
  {
   "cell_type": "code",
   "execution_count": 89,
   "id": "4e392c5a-6538-455c-b76f-f6c0cb24f3f4",
   "metadata": {},
   "outputs": [
    {
     "name": "stderr",
     "output_type": "stream",
     "text": [
      "MovieWriter ffmpeg unavailable; using Pillow instead.\n",
      "/var/folders/g4/21xnclh939d4qj7_fdhdc19m0000gn/T/ipykernel_57629/1308901709.py:41: RuntimeWarning: More than 20 figures have been opened. Figures created through the pyplot interface (`matplotlib.pyplot.figure`) are retained until explicitly closed and may consume too much memory. (To control this warning, see the rcParam `figure.max_open_warning`).\n",
      "  fig, ax = plt.subplots()\n"
     ]
    },
    {
     "data": {
      "text/plain": [
       "<Figure size 1440x1440 with 0 Axes>"
      ]
     },
     "metadata": {},
     "output_type": "display_data"
    },
    {
     "data": {
      "text/plain": [
       "<Figure size 432x288 with 0 Axes>"
      ]
     },
     "metadata": {},
     "output_type": "display_data"
    },
    {
     "data": {
      "text/plain": [
       "<Figure size 432x288 with 0 Axes>"
      ]
     },
     "metadata": {},
     "output_type": "display_data"
    },
    {
     "data": {
      "text/plain": [
       "<Figure size 432x288 with 0 Axes>"
      ]
     },
     "metadata": {},
     "output_type": "display_data"
    },
    {
     "data": {
      "text/plain": [
       "<Figure size 432x288 with 0 Axes>"
      ]
     },
     "metadata": {},
     "output_type": "display_data"
    },
    {
     "data": {
      "text/plain": [
       "<Figure size 432x288 with 0 Axes>"
      ]
     },
     "metadata": {},
     "output_type": "display_data"
    },
    {
     "data": {
      "text/plain": [
       "<Figure size 432x288 with 0 Axes>"
      ]
     },
     "metadata": {},
     "output_type": "display_data"
    },
    {
     "data": {
      "text/plain": [
       "<Figure size 432x288 with 0 Axes>"
      ]
     },
     "metadata": {},
     "output_type": "display_data"
    },
    {
     "data": {
      "text/plain": [
       "<Figure size 432x288 with 0 Axes>"
      ]
     },
     "metadata": {},
     "output_type": "display_data"
    },
    {
     "data": {
      "text/plain": [
       "<Figure size 432x288 with 0 Axes>"
      ]
     },
     "metadata": {},
     "output_type": "display_data"
    },
    {
     "data": {
      "text/plain": [
       "<Figure size 432x288 with 0 Axes>"
      ]
     },
     "metadata": {},
     "output_type": "display_data"
    },
    {
     "data": {
      "text/plain": [
       "<Figure size 432x288 with 0 Axes>"
      ]
     },
     "metadata": {},
     "output_type": "display_data"
    },
    {
     "data": {
      "text/plain": [
       "<Figure size 432x288 with 0 Axes>"
      ]
     },
     "metadata": {},
     "output_type": "display_data"
    },
    {
     "data": {
      "text/plain": [
       "<Figure size 432x288 with 0 Axes>"
      ]
     },
     "metadata": {},
     "output_type": "display_data"
    },
    {
     "data": {
      "text/plain": [
       "<Figure size 432x288 with 0 Axes>"
      ]
     },
     "metadata": {},
     "output_type": "display_data"
    },
    {
     "data": {
      "text/plain": [
       "<Figure size 432x288 with 0 Axes>"
      ]
     },
     "metadata": {},
     "output_type": "display_data"
    },
    {
     "data": {
      "text/plain": [
       "<Figure size 432x288 with 0 Axes>"
      ]
     },
     "metadata": {},
     "output_type": "display_data"
    },
    {
     "data": {
      "text/plain": [
       "<Figure size 432x288 with 0 Axes>"
      ]
     },
     "metadata": {},
     "output_type": "display_data"
    },
    {
     "data": {
      "text/plain": [
       "<Figure size 432x288 with 0 Axes>"
      ]
     },
     "metadata": {},
     "output_type": "display_data"
    },
    {
     "data": {
      "text/plain": [
       "<Figure size 432x288 with 0 Axes>"
      ]
     },
     "metadata": {},
     "output_type": "display_data"
    },
    {
     "data": {
      "text/plain": [
       "<Figure size 432x288 with 0 Axes>"
      ]
     },
     "metadata": {},
     "output_type": "display_data"
    },
    {
     "data": {
      "text/plain": [
       "<Figure size 432x288 with 0 Axes>"
      ]
     },
     "metadata": {},
     "output_type": "display_data"
    },
    {
     "data": {
      "text/plain": [
       "<Figure size 432x288 with 0 Axes>"
      ]
     },
     "metadata": {},
     "output_type": "display_data"
    },
    {
     "data": {
      "text/plain": [
       "<Figure size 432x288 with 0 Axes>"
      ]
     },
     "metadata": {},
     "output_type": "display_data"
    },
    {
     "data": {
      "text/plain": [
       "<Figure size 432x288 with 0 Axes>"
      ]
     },
     "metadata": {},
     "output_type": "display_data"
    },
    {
     "data": {
      "text/plain": [
       "<Figure size 432x288 with 0 Axes>"
      ]
     },
     "metadata": {},
     "output_type": "display_data"
    },
    {
     "data": {
      "text/plain": [
       "<Figure size 432x288 with 0 Axes>"
      ]
     },
     "metadata": {},
     "output_type": "display_data"
    },
    {
     "data": {
      "text/plain": [
       "<Figure size 432x288 with 0 Axes>"
      ]
     },
     "metadata": {},
     "output_type": "display_data"
    },
    {
     "data": {
      "text/plain": [
       "<Figure size 432x288 with 0 Axes>"
      ]
     },
     "metadata": {},
     "output_type": "display_data"
    },
    {
     "data": {
      "text/plain": [
       "<Figure size 432x288 with 0 Axes>"
      ]
     },
     "metadata": {},
     "output_type": "display_data"
    },
    {
     "data": {
      "text/plain": [
       "<Figure size 432x288 with 0 Axes>"
      ]
     },
     "metadata": {},
     "output_type": "display_data"
    },
    {
     "data": {
      "text/plain": [
       "<Figure size 432x288 with 0 Axes>"
      ]
     },
     "metadata": {},
     "output_type": "display_data"
    },
    {
     "data": {
      "text/plain": [
       "<Figure size 432x288 with 0 Axes>"
      ]
     },
     "metadata": {},
     "output_type": "display_data"
    },
    {
     "data": {
      "text/plain": [
       "<Figure size 432x288 with 0 Axes>"
      ]
     },
     "metadata": {},
     "output_type": "display_data"
    },
    {
     "data": {
      "image/png": "[encoded data removed]",
      "text/plain": [
       "<Figure size 432x288 with 1 Axes>"
      ]
     },
     "metadata": {},
     "output_type": "display_data"
    }
   ],
   "source": [
    "files=[]\n",
    "for (dirpath, dirnames, filenames) in os.walk(\"codes1/velocity_0.01noise_6.0gap_\"+str(1.0)+\"neigh_1.0angle_2/\"+str(7)+\"/video/frames1/\"):\n",
    "    files.extend([\"codes1/velocity_0.01noise_6.0gap_\"+str(1.0)+\"neigh_1.0angle_2/\"+str(7)+\"/video/frames1/\"+filenamest for filenamest in filenames if \"DS_Store\" not in filenamest])\n",
    "    break\n",
    "files = sorted(files)\n",
    "fig = plt.figure(figsize=(20,20))\n",
    "ax = plt.gca()\n",
    "plt.clf()\n",
    "\n",
    "\n",
    "def animate(i):\n",
    "    #print(i)\n",
    "    plt.clf() ## CLEARS THE PROJECTIONS\n",
    "    df = pd.read_csv(files[o], sep=\"\\s+\",header = None,usecols=[1,2])\n",
    "    points = df[[1,2]].to_numpy()\n",
    "    tri = Delaunay(points)\n",
    "    _neighbors = defaultdict(set)\n",
    "    for simplex in tri.vertices:\n",
    "        for i, j in permutations(simplex, 2):\n",
    "            _neighbors[i].add(j)\n",
    "    #list those neighbors via their index\n",
    "    points = [tuple(p) for p in tri.points]\n",
    "    neighbors = {}\n",
    "    for k, v in _neighbors.items():\n",
    "        neighbors[k] = [y for y in v]\n",
    "    G = nx.Graph()\n",
    "    for p in range(len(points)):\n",
    "        G.add_node(p)\n",
    "    pos = {}\n",
    "    for e in neighbors:\n",
    "        d = points[e]\n",
    "        pos[e] = [s for s in d]    \n",
    "    G.remove_edges_from(G.edges())\n",
    "    for h in neighbors:\n",
    "        node1 = h\n",
    "        for g in neighbors[h]:\n",
    "            node2 = g\n",
    "            if distance.euclidean(points[node1],points[node2]) < 4:\n",
    "                G.add_edge(node1,node2)\n",
    "\n",
    "    fig, ax = plt.subplots()\n",
    "    plt.plot([-24,24],[-24,-24],\"r-\", linewidth = 2.5) ## xmin to xmax at ymin\n",
    "    plt.plot([-24,24],[24,24],\"r-\", linewidth = 2.5) ## xmin to xmax at ymax\n",
    "    plt.plot([-24,-24],[-24,24],\"r-\", linewidth = 2.5) ## ymin to ymax at xmin\n",
    "    plt.plot([24,24],[-24,24],\"r-\", linewidth = 2.5) ## ymin to ymax at xmax\n",
    "    nx.draw(G, pos=pos, node_color='k', node_size = 15, ax=ax)\n",
    "\n",
    "anim = ani.FuncAnimation(fig, animate,frames = len(files), blit = False)\n",
    "anim.save('trial.gif', writer = 'ffmpeg', fps = 20)\n"
   ]
  },
  {
   "cell_type": "code",
   "execution_count": null,
   "id": "7de874eb-a1a7-4feb-99fd-69bd5ddc4b13",
   "metadata": {},
   "outputs": [],
   "source": []
  },
  {
   "cell_type": "code",
   "execution_count": null,
   "id": "e6452399-bed5-483f-9fff-dc33ca25bd4c",
   "metadata": {},
   "outputs": [],
   "source": []
  }
 ],
 "metadata": {
  "kernelspec": {
   "display_name": "Python 3 (ipykernel)",
   "language": "python",
   "name": "python3"
  },
  "language_info": {
   "codemirror_mode": {
    "name": "ipython",
    "version": 3
   },
   "file_extension": ".py",
   "mimetype": "text/x-python",
   "name": "python",
   "nbconvert_exporter": "python",
   "pygments_lexer": "ipython3",
   "version": "3.9.7"
  }
 },
 "nbformat": 4,
 "nbformat_minor": 5
}
